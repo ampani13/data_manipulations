{
 "cells": [
  {
   "cell_type": "code",
   "execution_count": 1,
   "metadata": {},
   "outputs": [
    {
     "ename": "TabError",
     "evalue": "inconsistent use of tabs and spaces in indentation (<string>, line 9)",
     "output_type": "error",
     "traceback": [
      "\u001b[1;36m  File \u001b[1;32m<string>:9\u001b[1;36m\u001b[0m\n\u001b[1;33m    numbers = re.findall(r'\\d+', filename)\u001b[0m\n\u001b[1;37m                                          ^\u001b[0m\n\u001b[1;31mTabError\u001b[0m\u001b[1;31m:\u001b[0m inconsistent use of tabs and spaces in indentation\n"
     ]
    }
   ],
   "source": [
    "folder_path = \"/root/MF_Appraisal/CBRE/CBRE_no_data_elements/Gross Building Area (SF)/\"\n",
    "files_2 = [f for f in os.listdir(folder_path) if os.path.isfile(os.path.join(folder_path, f)) and f.endswith(\".csv\")]\n",
    "all_data = []\n",
    "for filename in files_2:\n",
    "    file_path_22 = os.path.join(folder_path, filename)"
   ]
  },
  {
   "cell_type": "code",
   "execution_count": 16,
   "metadata": {},
   "outputs": [],
   "source": [
    "import numpy as np\n",
    "import pandas as pd\n",
    "import re\n",
    "import os"
   ]
  },
  {
   "cell_type": "code",
   "execution_count": 61,
   "metadata": {},
   "outputs": [
    {
     "name": "stdout",
     "output_type": "stream",
     "text": [
      "[(2, 17)]\n",
      "Index([4], dtype='int64')\n",
      "  Column0 Column1\n",
      "4     xyz     asd\n"
     ]
    }
   ],
   "source": [
    "df = pd.read_csv(r\"input_data\\test_data.csv\")\n",
    "#numbers = re.findall(r'\\d+', filename)\n",
    "#number_0 = numbers[0] if numbers else None\n",
    "#name_0 = filename.split(\".\")[0]\n",
    "table_titles = [\"IMPROVEMENTS SUMMARY AND ANALYSIS\"]\n",
    "attributes_to_capture = [\"xyz\"]\n",
    "tables_index = []\n",
    "for title in table_titles:\n",
    "    start_row = df[(df['Column0'] == title) | (df['Column1'] == title)].index.min()\n",
    "    last_row = df.iloc[start_row+1:].index[(df['Column0'].iloc[start_row+1:].notna()) & \n",
    "                                    (df['Column0'].iloc[start_row+1:] != '') & \n",
    "                                    (df['Column1'].iloc[start_row+1:].isna() | (df['Column1'].iloc[start_row+1:] == ''))].min()\n",
    "\n",
    "\n",
    "    tables_index.append((start_row,last_row))\n",
    "    #print(start_row)\n",
    "print(tables_index)\n",
    "\n",
    "for table_index in tables_index:\n",
    "    df_chunk = df[table_index[0]+1:table_index[1]]\n",
    "    df_chunk_cleaned = df_chunk.dropna(subset=['Column0'])\n",
    "    df_chunk_cleaned = df_chunk_cleaned.dropna(axis='columns', how='all')\n",
    "\n",
    "    for attribute in attributes_to_capture:\n",
    "        indices_col1 = df_chunk_cleaned[df_chunk_cleaned['Column0'].str.contains(attribute, na=False)].index\n",
    "        indices_col2 = df_chunk_cleaned[df_chunk_cleaned['Column1'].str.contains(attribute, na=False)].index\n",
    "\n",
    "        # Combine indices from both columns\n",
    "        indices = indices_col1.union(indices_col2)\n",
    "        print(indices)\n",
    "        result_df = df_chunk_cleaned.loc[indices]\n",
    "        print(result_df)\n",
    "\n",
    "\n",
    "\n",
    "\n",
    "\n"
   ]
  },
  {
   "cell_type": "code",
   "execution_count": null,
   "metadata": {},
   "outputs": [],
   "source": []
  }
 ],
 "metadata": {
  "kernelspec": {
   "display_name": "Python 3",
   "language": "python",
   "name": "python3"
  },
  "language_info": {
   "codemirror_mode": {
    "name": "ipython",
    "version": 3
   },
   "file_extension": ".py",
   "mimetype": "text/x-python",
   "name": "python",
   "nbconvert_exporter": "python",
   "pygments_lexer": "ipython3",
   "version": "3.12.4"
  }
 },
 "nbformat": 4,
 "nbformat_minor": 2
}
